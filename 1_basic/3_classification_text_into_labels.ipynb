{
 "cells": [
  {
   "cell_type": "code",
   "id": "initial_id",
   "metadata": {
    "collapsed": true,
    "ExecuteTime": {
     "end_time": "2025-08-30T10:18:02.157816Z",
     "start_time": "2025-08-30T10:17:47.908152Z"
    }
   },
   "source": [
    "import getpass\n",
    "import os\n",
    "\n",
    "if not os.environ.get(\"GOOGLE_API_KEY\"):\n",
    "    os.environ[\"GOOGLE_API_KEY\"] = getpass.getpass(\"Enter API key for Google Gemini: \")\n",
    "\n",
    "if not os.environ.get(\"OPENAI_API_KEY\"):\n",
    "  os.environ[\"OPENAI_API_KEY\"] = getpass.getpass(\"Enter API key for OpenAI: \")\n",
    "\n",
    "from langchain.chat_models import init_chat_model\n",
    "\n",
    "llm = init_chat_model(\"gemini-2.5-flash\", model_provider=\"google_genai\")"
   ],
   "outputs": [],
   "execution_count": 12
  },
  {
   "metadata": {
    "ExecuteTime": {
     "end_time": "2025-08-30T10:18:07.981424Z",
     "start_time": "2025-08-30T10:18:05.229864Z"
    }
   },
   "cell_type": "code",
   "source": [
    "from langchain_core.prompts import ChatPromptTemplate\n",
    "from langchain_openai import ChatOpenAI\n",
    "from pydantic import BaseModel, Field\n",
    "\n",
    "tagging_prompt = ChatPromptTemplate.from_template(\n",
    "    f\"\"\"Extract the desired information from the following passage.\n",
    "    only extract the properties mentioned in the 'Classification' function.\n",
    "    Passage: {input}\n",
    "    \"\"\"\n",
    ")\n",
    "\n",
    "\n",
    "class Classification(BaseModel):\n",
    "    sentiment: str = Field(description=\"Sentiment of the text.\")\n",
    "    aggressiveness: int = Field(description=\"Aggressiveness of the text.\")\n",
    "    language: str = Field(description=\"Language of the text.\")\n",
    "\n",
    "\n",
    "structured_llm = llm.with_structured_output(Classification)\n",
    "\n",
    "inp = \"Estoy increiblemente contento de haberte conocido! Creo que seremos muy buenos amigos!\"\n",
    "prompt = tagging_prompt.invoke({\"input\": inp})\n",
    "response = structured_llm.invoke(prompt)\n",
    "\n",
    "# response\n",
    "response.model_dump()"
   ],
   "id": "b292b634d27cc420",
   "outputs": [
    {
     "data": {
      "text/plain": [
       "{'sentiment': 'neutral', 'aggressiveness': 0, 'language': 'en'}"
      ]
     },
     "execution_count": 13,
     "metadata": {},
     "output_type": "execute_result"
    }
   ],
   "execution_count": 13
  },
  {
   "metadata": {
    "ExecuteTime": {
     "end_time": "2025-08-30T10:31:33.692177Z",
     "start_time": "2025-08-30T10:31:33.687563Z"
    }
   },
   "cell_type": "code",
   "source": [
    "from typing import Literal\n",
    "\n",
    "\n",
    "class Classification(BaseModel):\n",
    "    sentiment: Literal['happy', 'neutral', 'sad', 'angry'] = Field(..., description=\"Sentiment of the text.\")\n",
    "    aggressiveness: Literal[1, 2, 3, 4, 5] = Field(..., description=\"Aggressiveness of the text.\")\n",
    "    language: Literal[\"spanish\", \"english\", \"french\", \"german\", \"italian\"] = Field(...,\n",
    "                                                                                   description=\"Language of the text.\")\n",
    "    behaviour: Literal['Good Behave', 'Bad Behave'] = Field(description=\"Whether the text is good or bad.\")\n"
   ],
   "id": "49d43a5c02b2964f",
   "outputs": [],
   "execution_count": 27
  },
  {
   "metadata": {
    "ExecuteTime": {
     "end_time": "2025-08-30T10:32:00.309150Z",
     "start_time": "2025-08-30T10:31:58.819791Z"
    }
   },
   "cell_type": "code",
   "source": [
    "tagging_prompt = ChatPromptTemplate.from_template(\n",
    "    \"\"\"\n",
    "Extract the desired information from the following passage.\n",
    "\n",
    "- sentiment: happy, neutral, sad, angry\n",
    "- aggressiveness: 1 is low to 5 is high\n",
    "- language: spanish, english, french, german, italian\n",
    "- behaviour: Good Behave, Bad Behave\n",
    "\n",
    "Rules:\n",
    "1. Detect the language carefully; do not assume English by default.\n",
    "2. Treat threats or insults as high aggressiveness and Bad Behave.\n",
    "3. Sentiment should reflect the overall emotion in the text.\n",
    "4. Always output exactly the fields in the Classification model.\n",
    "\n",
    "Passage:\n",
    "{input}\n",
    "\"\"\"\n",
    ")\n",
    "\n",
    "\n",
    "llm = ChatOpenAI(temperature=0, model=\"gpt-4o-mini\").with_structured_output(\n",
    "    Classification\n",
    ")\n",
    "\n",
    "inp = \"Estoy increiblemente contento de haberte conocido! Creo que seremos muy buenos amigos!\"\n",
    "prompt = tagging_prompt.invoke({\"input\": inp})\n",
    "llm.invoke(prompt)"
   ],
   "id": "84b0979b1acef7ca",
   "outputs": [
    {
     "data": {
      "text/plain": [
       "Classification(sentiment='happy', aggressiveness=1, language='spanish', behaviour='Good Behave')"
      ]
     },
     "execution_count": 29,
     "metadata": {},
     "output_type": "execute_result"
    }
   ],
   "execution_count": 29
  },
  {
   "metadata": {
    "ExecuteTime": {
     "end_time": "2025-08-30T10:32:13.307587Z",
     "start_time": "2025-08-30T10:32:12.072259Z"
    }
   },
   "cell_type": "code",
   "source": [
    "inp = \"I will kill you, if you will not come\"\n",
    "prompt = tagging_prompt.invoke({\"input\": inp})\n",
    "llm.invoke(prompt)"
   ],
   "id": "1d22ebf1c1dbaed2",
   "outputs": [
    {
     "data": {
      "text/plain": [
       "Classification(sentiment='angry', aggressiveness=5, language='english', behaviour='Bad Behave')"
      ]
     },
     "execution_count": 30,
     "metadata": {},
     "output_type": "execute_result"
    }
   ],
   "execution_count": 30
  }
 ],
 "metadata": {
  "kernelspec": {
   "display_name": "Python 3",
   "language": "python",
   "name": "python3"
  },
  "language_info": {
   "codemirror_mode": {
    "name": "ipython",
    "version": 2
   },
   "file_extension": ".py",
   "mimetype": "text/x-python",
   "name": "python",
   "nbconvert_exporter": "python",
   "pygments_lexer": "ipython2",
   "version": "2.7.6"
  }
 },
 "nbformat": 4,
 "nbformat_minor": 5
}
