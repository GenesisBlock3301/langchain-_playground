{
 "cells": [
  {
   "cell_type": "code",
   "id": "initial_id",
   "metadata": {
    "collapsed": true,
    "ExecuteTime": {
     "end_time": "2025-08-16T12:13:28.862572Z",
     "start_time": "2025-08-16T12:13:28.858948Z"
    }
   },
   "source": [
    "import os\n",
    "import getpass\n",
    "\n",
    "try:\n",
    "    from dotenv import load_dotenv\n",
    "\n",
    "    load_dotenv()\n",
    "except ImportError:\n",
    "    pass\n",
    "\n",
    "os.environ[\"LANGSMITH_TRACING\"] = \"true\"\n",
    "if \"LANGSMITH_API_KEY\" not in os.environ:\n",
    "    os.environ[\"LANGSMITH_API_KEY\"] = getpass.getpass(\n",
    "        prompt=\"Enter your LangSmith API key (optional): \"\n",
    "    )\n",
    "if \"LANGSMITH_PROJECT\" not in os.environ:\n",
    "    os.environ[\"LANGSMITH_PROJECT\"] = getpass.getpass(\n",
    "        prompt='Enter your LangSmith Project Name (default = \"default\"): '\n",
    "    )\n",
    "    if not os.environ.get(\"LANGSMITH_PROJECT\"):\n",
    "        os.environ[\"LANGSMITH_PROJECT\"] = \"default\""
   ],
   "outputs": [],
   "execution_count": 23
  },
  {
   "metadata": {},
   "cell_type": "markdown",
   "source": [
    "## Concepts\n",
    "\n",
    "This guide focuses on retrieval of text data. We will cover the following concepts:\n",
    "\n",
    "    Documents and document loaders;\n",
    "    Text splitters;\n",
    "    Embeddings;\n",
    "    Vector stores and retrievers.\n"
   ],
   "id": "ec9e93f2e7164757"
  },
  {
   "metadata": {
    "ExecuteTime": {
     "end_time": "2025-08-30T09:32:36.948547Z",
     "start_time": "2025-08-30T09:32:36.667324Z"
    }
   },
   "cell_type": "code",
   "source": [
    "from langchain_core.documents import Document\n",
    "\n",
    "# Generate sample document\n",
    "documents = [\n",
    "    Document(\n",
    "        page_content=\"Dogs are great companions, known for their loyalty and friendliness.\",\n",
    "        metadata={\"source\": \"mammal-pets-doc\"},\n",
    "    ),\n",
    "    Document(\n",
    "        page_content=\"Cats are independent pets that often enjoy their own space.\",\n",
    "        metadata={\"source\": \"mammal-pets-doc\"},\n",
    "    ),\n",
    "]"
   ],
   "id": "9669992f90f0b341",
   "outputs": [],
   "execution_count": 1
  },
  {
   "metadata": {
    "ExecuteTime": {
     "end_time": "2025-08-30T09:32:45.627058Z",
     "start_time": "2025-08-30T09:32:44.950976Z"
    }
   },
   "cell_type": "code",
   "source": [
    "from langchain_community.document_loaders import PyPDFLoader\n",
    "\n",
    "file_path = '../nur_amin_sifat_python_ai.pdf'\n",
    "loader = PyPDFLoader(file_path)\n",
    "\n",
    "docs = loader.load()\n",
    "\n",
    "print(len(docs))\n",
    "print(f\"{docs[0].page_content[:200]}\\n\")\n",
    "print(docs[0].metadata)"
   ],
   "id": "633f79d1f872e332",
   "outputs": [
    {
     "name": "stdout",
     "output_type": "stream",
     "text": [
      "2\n",
      "Md Nur Amin Sifat\n",
      "/envel⌢pemdnuraminsifat380@gmail.com|♂phone+8801758809212|/mediumnastech.medium.com|/linkedinlinkedin.com/in/nur-amin-sifat\n",
      "/githubgithub.com/GenesisBlock3301|/codeleetcode.com/Genes\n",
      "\n",
      "{'source': './nur_amin_sifat_python_ai.pdf', 'page': 0, 'page_label': ''}\n"
     ]
    }
   ],
   "execution_count": 2
  },
  {
   "metadata": {
    "ExecuteTime": {
     "end_time": "2025-08-30T09:33:46.602682Z",
     "start_time": "2025-08-30T09:33:46.578563Z"
    }
   },
   "cell_type": "code",
   "source": [
    "from langchain_text_splitters import RecursiveCharacterTextSplitter\n",
    "\n",
    "text_splitter = RecursiveCharacterTextSplitter(\n",
    "    chunk_size=1000,\n",
    "    chunk_overlap=200,\n",
    "    add_start_index=True\n",
    ")\n",
    "\n",
    "all_splits = text_splitter.split_documents(docs)\n",
    "for i, item in enumerate(all_splits): print(f\"{i}:-> {item}\\n\")"
   ],
   "id": "f8205ca9652e699e",
   "outputs": [
    {
     "name": "stdout",
     "output_type": "stream",
     "text": [
      "0:-> page_content='Md Nur Amin Sifat\n",
      "/envel⌢pemdnuraminsifat380@gmail.com|♂phone+8801758809212|/mediumnastech.medium.com|/linkedinlinkedin.com/in/nur-amin-sifat\n",
      "/githubgithub.com/GenesisBlock3301|/codeleetcode.com/GenesisBlock3301|/kagglekaggle.com/genesisblock3301\n",
      "♂¶ap-¶arker-altDhaka, Bangladesh\n",
      "Professional Summary\n",
      "Software Engineer with 4 years of experience in Backend, specializing in Python, GoLang, and JavaScript.\n",
      "Strong expertise in microservices architecture, database optimization, and scalable application development.\n",
      "Passionate about artificial intelligence. Hands-on experience with machine learning, deep learning, and\n",
      "real-world model deployment. Enthusiastic about large language models (LLMs) and their applications in NLP,\n",
      "automation, and generative AI. Proven ability to deliver high-quality solutions within tight deadlines.\n",
      "Research Interests\n",
      "Machine Learning · Deep Learning · NLP · Computer Vision · Drone · Robotics & Perception · LLMs · RAG · Generative\n",
      "AI\n",
      "Education' metadata={'source': './nur_amin_sifat_python_ai.pdf', 'page': 0, 'page_label': '', 'start_index': 0}\n",
      "\n",
      "1:-> page_content='Research Interests\n",
      "Machine Learning · Deep Learning · NLP · Computer Vision · Drone · Robotics & Perception · LLMs · RAG · Generative\n",
      "AI\n",
      "Education\n",
      "Daffodil International University, Dhaka, Bangladesh, BSc in Computer Science &\n",
      "Engineering\n",
      "Jan 2017 – Jan 2021\n",
      "• CGPA: 3.71/4.0\n",
      "Skills\n",
      "• Programming Languages: Python | GoLang | JavaScript | C | SQL\n",
      "• Machine Learning: Deep Learning | Computer Vision | Gait Recognition | Feature Engineering\n",
      "• Frameworks: Django | Django Rest API | Go Gin | TensorFlow\n",
      "• Databases: PostgreSQL | MongoDB | Redis\n",
      "• Tools: Git | Jira | Docker\n",
      "• Soft Skills: Effective communication, creative problem-solving, research-oriented thinking\n",
      "Work Experience\n",
      "Software Engineer, Brain Station-23 LTD – Dhaka, Bangladesh January 2024 – Present\n",
      "• Engineered scalable microservices architecture for the Waadaa e-commerce platform, accelerating development\n",
      "speed by 30%.\n",
      "• Designed relational database schemas from business use cases to support a catalog of 10,000+ products,' metadata={'source': './nur_amin_sifat_python_ai.pdf', 'page': 0, 'page_label': '', 'start_index': 831}\n",
      "\n",
      "2:-> page_content='speed by 30%.\n",
      "• Designed relational database schemas from business use cases to support a catalog of 10,000+ products,\n",
      "ensuring high data integrity and consistency .\n",
      "• Optimized query performance, reducing average response time from 690 ms to 2 ms — a 99.7% improvement\n",
      "that enhanced customer experience.\n",
      "• Enhanced CI/CD pipelines to catch more bugs pre-deployment and reduce release friction.\n",
      "• Languages: Python, JavaScript, Golang\n",
      "• Frameworks: Django, FastAPI, Django Rest Framework, jQuery\n",
      "Associate Software Engineer, Brain Station-23 LTD – Dhaka, Bangladesh April 2022 – January 2024\n",
      "• Improved TEQ (Ferdia) platform performance, boosting user engagement by 22% and reducing client\n",
      "onboarding time by 30%.\n",
      "• Refactored database access layers, eliminating redundant queries and cutting backend load time by 40%.\n",
      "• Developed a Python-based automated testing framework in collaboration with QA, increasing test coverage by\n",
      "50%.\n",
      "• Languages: Python, Go, JavaScript' metadata={'source': './nur_amin_sifat_python_ai.pdf', 'page': 0, 'page_label': '', 'start_index': 1705}\n",
      "\n",
      "3:-> page_content='• Developed a Python-based automated testing framework in collaboration with QA, increasing test coverage by\n",
      "50%.\n",
      "• Languages: Python, Go, JavaScript\n",
      "• Frameworks: Gin (Go), Django, ReactJS, jQuery\n",
      "Full Stack Developer, Trillionbits Ltd – Dhaka, Bangladesh July 2021 – January 2022\n",
      "• Delivered REST API features using ExpressJS and Django, increasing backend reliability and reducing system\n",
      "error rates by 20%.\n",
      "• Refactored monolithic legacy modules into reusable components, resolving N+1 query issues and improving\n",
      "backend performance by 35%.\n",
      "• Frameworks: Django, Django Rest Framework, ReactJS, jQuery' metadata={'source': './nur_amin_sifat_python_ai.pdf', 'page': 0, 'page_label': '', 'start_index': 2524}\n",
      "\n",
      "4:-> page_content='Research Experience\n",
      "AI & Computer Vision Intern, Intelsense AI – Dhaka, Bangladesh Jun 2020 – Oct 2020\n",
      "• Worked on computer vision tasks involving image processing, object detection, and human identification using\n",
      "deep learning techniques.\n",
      "• Applied Convolutional Neural Networks (CNNs) for improving accuracy in human recognition and gait analysis.\n",
      "• Gained hands-on experience in real-world applications of AI and contributed to research-driven development\n",
      "workflows.\n",
      "Projects\n",
      "Eye Grading Module Web App\n",
      "• Developed a machine learning-based eye grading module that helps doctors assess eye health based on patient\n",
      "images\n",
      "• Tools Used: Django Rest API, ML, Reactjs, PostgreSQL\n",
      "Deep Learning to Predict Human Emotions\n",
      "• Created a web application for predicting human emotions using deep learning and facial expression recognition\n",
      "• Tools Used: Python, Django Rest API\n",
      "Teq - Cloud-Based Coach Company System' metadata={'source': './nur_amin_sifat_python_ai.pdf', 'page': 1, 'page_label': '', 'start_index': 0}\n",
      "\n",
      "5:-> page_content='• Created a web application for predicting human emotions using deep learning and facial expression recognition\n",
      "• Tools Used: Python, Django Rest API\n",
      "Teq - Cloud-Based Coach Company System\n",
      "• Developed an advanced cloud-based system to automate and streamline daily operations of coach companies\n",
      "• Improved operational efficiency , customer satisfaction, and profitability through automation\n",
      "• Tools Used: Python | Go | Django | Django RestAPI\n",
      "Waadaa - E-commerce Application\n",
      "• Built a full-featured e-commerce platform to provide seamless shopping experiences for users\n",
      "• Implemented product catalog, cart management, order processing, and payment integration\n",
      "• Tools Used: Python | Django | Django RestAPI\n",
      "Certifications\n",
      "• Deep Learning — Kaggle — ANN, SGD, Dropout, Batch, Binary Classification\n",
      "• Intermediate Machine Learning — Kaggle — Model validation, Feature engineering, Random Forest, XGBoost,\n",
      "Data leakage handling' metadata={'source': './nur_amin_sifat_python_ai.pdf', 'page': 1, 'page_label': '', 'start_index': 718}\n",
      "\n",
      "6:-> page_content='• Intermediate Machine Learning — Kaggle — Model validation, Feature engineering, Random Forest, XGBoost,\n",
      "Data leakage handling\n",
      "• Intro to Machine Learning — Kaggle — Supervised learning, Data Preprocessing, Decision trees, Overfitting,\n",
      "Model selection\n",
      "• Cyber Security and Physical Protection at Workplace (Malware) — Brain Station 23 — Malware analysis,\n",
      "Cyber hygiene, Office system protection\n",
      "• A Blockchain-Enabled Distributed Advanced Metering Infrastructure Secure Communication (BC-AMI) —\n",
      "MDPI — Blockchain, IoT security, Secure communication protocols\n",
      "• Python (Intermediate) — HackerRank — Data structures, Algorithms, Python functions, OOP, File I/O\n",
      "Languages\n",
      "• English — Proficient (IELTS Band 6)\n",
      "• Bangla — Native Speaker' metadata={'source': './nur_amin_sifat_python_ai.pdf', 'page': 1, 'page_label': '', 'start_index': 1515}\n",
      "\n"
     ]
    }
   ],
   "execution_count": 3
  },
  {
   "metadata": {
    "ExecuteTime": {
     "end_time": "2025-08-30T09:34:03.998589Z",
     "start_time": "2025-08-30T09:33:54.408249Z"
    }
   },
   "cell_type": "code",
   "source": [
    "from langchain.embeddings import HuggingFaceEmbeddings\n",
    "\n",
    "embedding = HuggingFaceEmbeddings(model_name=\"all-MiniLM-L6-v2\")\n",
    "\n",
    "vector_1 = embedding.embed_query(all_splits[0].page_content)\n",
    "vector_2 = embedding.embed_query(all_splits[1].page_content)\n",
    "\n",
    "assert len(vector_1) == len(vector_2)\n",
    "\n",
    "print(vector_1[:20])"
   ],
   "id": "869e37f75c8e6ade",
   "outputs": [
    {
     "name": "stderr",
     "output_type": "stream",
     "text": [
      "/tmp/ipykernel_395524/3083370403.py:3: LangChainDeprecationWarning: The class `HuggingFaceEmbeddings` was deprecated in LangChain 0.2.2 and will be removed in 1.0. An updated version of the class exists in the :class:`~langchain-huggingface package and should be used instead. To use it run `pip install -U :class:`~langchain-huggingface` and import as `from :class:`~langchain_huggingface import HuggingFaceEmbeddings``.\n",
      "  embedding = HuggingFaceEmbeddings(model_name=\"all-MiniLM-L6-v2\")\n",
      "/home/bs00815/Desktop/MachineLearning/langchain-_playground/.venv/lib/python3.12/site-packages/tqdm/auto.py:21: TqdmWarning: IProgress not found. Please update jupyter and ipywidgets. See https://ipywidgets.readthedocs.io/en/stable/user_install.html\n",
      "  from .autonotebook import tqdm as notebook_tqdm\n"
     ]
    },
    {
     "name": "stdout",
     "output_type": "stream",
     "text": [
      "[-0.04704954847693443, -0.07763168215751648, 0.04998462647199631, 0.0042217145673930645, -0.024292338639497757, -0.032140664756298065, -0.0243839044123888, 0.019588157534599304, -0.06551358103752136, 0.010316074825823307, -0.04696815833449364, -0.07748743891716003, 0.0355636365711689, 0.026479754596948624, 0.03369459882378578, 0.08663653582334518, 0.042259469628334045, -0.02866727113723755, -0.07380245625972748, -0.09452342987060547]\n"
     ]
    }
   ],
   "execution_count": 4
  },
  {
   "metadata": {
    "ExecuteTime": {
     "end_time": "2025-08-30T09:34:10.207958Z",
     "start_time": "2025-08-30T09:34:09.982123Z"
    }
   },
   "cell_type": "code",
   "source": [
    "from langchain_core.vectorstores import InMemoryVectorStore\n",
    "vector_store = InMemoryVectorStore(embedding=embedding)\n",
    "ids = vector_store.add_documents(all_splits)\n",
    "\n",
    "result = vector_store.similarity_search(\n",
    "    \"ielts\",\n",
    "    k=3,\n",
    ")\n",
    "print(result[0])"
   ],
   "id": "984ceee692f4163b",
   "outputs": [
    {
     "name": "stdout",
     "output_type": "stream",
     "text": [
      "page_content='• Intermediate Machine Learning — Kaggle — Model validation, Feature engineering, Random Forest, XGBoost,\n",
      "Data leakage handling\n",
      "• Intro to Machine Learning — Kaggle — Supervised learning, Data Preprocessing, Decision trees, Overfitting,\n",
      "Model selection\n",
      "• Cyber Security and Physical Protection at Workplace (Malware) — Brain Station 23 — Malware analysis,\n",
      "Cyber hygiene, Office system protection\n",
      "• A Blockchain-Enabled Distributed Advanced Metering Infrastructure Secure Communication (BC-AMI) —\n",
      "MDPI — Blockchain, IoT security, Secure communication protocols\n",
      "• Python (Intermediate) — HackerRank — Data structures, Algorithms, Python functions, OOP, File I/O\n",
      "Languages\n",
      "• English — Proficient (IELTS Band 6)\n",
      "• Bangla — Native Speaker' metadata={'source': './nur_amin_sifat_python_ai.pdf', 'page': 1, 'page_label': '', 'start_index': 1515}\n"
     ]
    }
   ],
   "execution_count": 5
  },
  {
   "metadata": {
    "ExecuteTime": {
     "end_time": "2025-08-16T12:55:40.293752Z",
     "start_time": "2025-08-16T12:55:40.280256Z"
    }
   },
   "cell_type": "code",
   "source": [
    "# score\n",
    "result = vector_store.similarity_search_with_score(\"ielts\", k=3)\n",
    "doc, score = result[0]\n",
    "\n",
    "print(f\"score: {score}\\n\")\n",
    "print(f\"{doc}\\n\")"
   ],
   "id": "7100ac6f1f2c7e3d",
   "outputs": [
    {
     "name": "stdout",
     "output_type": "stream",
     "text": [
      "score: 0.2895670086786331\n",
      "\n",
      "page_content='• Intermediate Machine Learning — Kaggle — Model validation, Feature engineering, Random Forest, XGBoost,\n",
      "Data leakage handling\n",
      "• Intro to Machine Learning — Kaggle — Supervised learning, Data Preprocessing, Decision trees, Overfitting,\n",
      "Model selection\n",
      "• Cyber Security and Physical Protection at Workplace (Malware) — Brain Station 23 — Malware analysis,\n",
      "Cyber hygiene, Office system protection\n",
      "• A Blockchain-Enabled Distributed Advanced Metering Infrastructure Secure Communication (BC-AMI) —\n",
      "MDPI — Blockchain, IoT security, Secure communication protocols\n",
      "• Python (Intermediate) — HackerRank — Data structures, Algorithms, Python functions, OOP, File I/O\n",
      "Languages\n",
      "• English — Proficient (IELTS Band 6)\n",
      "• Bangla — Native Speaker' metadata={'source': './nur_amin_sifat_python_ai.pdf', 'page': 1, 'page_label': '', 'start_index': 1515}\n",
      "\n"
     ]
    }
   ],
   "execution_count": 46
  },
  {
   "metadata": {
    "ExecuteTime": {
     "end_time": "2025-08-16T12:56:50.284606Z",
     "start_time": "2025-08-16T12:56:50.271958Z"
    }
   },
   "cell_type": "code",
   "source": [
    "embedding = embedding.embed_query(\"ielst\")\n",
    "result = vector_store.similarity_search_by_vector(embedding)\n",
    "print(result[0])"
   ],
   "id": "c02677a677fc909a",
   "outputs": [
    {
     "name": "stdout",
     "output_type": "stream",
     "text": [
      "page_content='• Intermediate Machine Learning — Kaggle — Model validation, Feature engineering, Random Forest, XGBoost,\n",
      "Data leakage handling\n",
      "• Intro to Machine Learning — Kaggle — Supervised learning, Data Preprocessing, Decision trees, Overfitting,\n",
      "Model selection\n",
      "• Cyber Security and Physical Protection at Workplace (Malware) — Brain Station 23 — Malware analysis,\n",
      "Cyber hygiene, Office system protection\n",
      "• A Blockchain-Enabled Distributed Advanced Metering Infrastructure Secure Communication (BC-AMI) —\n",
      "MDPI — Blockchain, IoT security, Secure communication protocols\n",
      "• Python (Intermediate) — HackerRank — Data structures, Algorithms, Python functions, OOP, File I/O\n",
      "Languages\n",
      "• English — Proficient (IELTS Band 6)\n",
      "• Bangla — Native Speaker' metadata={'source': './nur_amin_sifat_python_ai.pdf', 'page': 1, 'page_label': '', 'start_index': 1515}\n"
     ]
    }
   ],
   "execution_count": 47
  }
 ],
 "metadata": {
  "kernelspec": {
   "display_name": "Python 3",
   "language": "python",
   "name": "python3"
  },
  "language_info": {
   "codemirror_mode": {
    "name": "ipython",
    "version": 2
   },
   "file_extension": ".py",
   "mimetype": "text/x-python",
   "name": "python",
   "nbconvert_exporter": "python",
   "pygments_lexer": "ipython2",
   "version": "2.7.6"
  }
 },
 "nbformat": 4,
 "nbformat_minor": 5
}
