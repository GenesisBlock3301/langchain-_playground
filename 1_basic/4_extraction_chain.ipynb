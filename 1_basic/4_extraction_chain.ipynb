{
 "cells": [
  {
   "cell_type": "code",
   "id": "initial_id",
   "metadata": {
    "collapsed": true,
    "ExecuteTime": {
     "end_time": "2025-08-31T02:09:51.619344Z",
     "start_time": "2025-08-31T02:09:36.868100Z"
    }
   },
   "source": [
    "import getpass\n",
    "import os\n",
    "\n",
    "os.environ[\"LANGSMITH_TRACING\"] = \"true\"\n",
    "if not os.environ.get(\"LANGSMITH_API_KEY\"):\n",
    "    os.environ[\"LANGSMITH_API_KEY\"] = getpass.getpass()\n",
    "\n",
    "if not os.environ.get(\"GOOGLE_API_KEY\"):\n",
    "    os.environ[\"GOOGLE_API_KEY\"] = getpass.getpass(\"Enter API key for Google Gemini: \")\n"
   ],
   "outputs": [],
   "execution_count": 6
  },
  {
   "metadata": {
    "ExecuteTime": {
     "end_time": "2025-08-31T01:49:56.041999Z",
     "start_time": "2025-08-31T01:49:56.037818Z"
    }
   },
   "cell_type": "code",
   "source": [
    "from typing import Optional\n",
    "from pydantic import BaseModel, Field\n",
    "\n",
    "\n",
    "class Person(BaseModel):\n",
    "    name: Optional[str] = Field(default=None, description=\"The person's name\")\n",
    "    hair_color: Optional[str] = Field(default=None, description=\"The person's hair color\")\n",
    "    height_in_meters: Optional[str] = Field(default=None, description=\"The person's height\")\n",
    "    weight: Optional[str] = Field(default=None, description=\"The person's weight\")\n",
    "\n",
    "\n",
    "person = Person()\n",
    "print(person)"
   ],
   "id": "a7a62d537d11382e",
   "outputs": [
    {
     "name": "stdout",
     "output_type": "stream",
     "text": [
      "name=None hair_color=None height_in_meters=None weight=None\n"
     ]
    }
   ],
   "execution_count": 4
  },
  {
   "metadata": {
    "ExecuteTime": {
     "end_time": "2025-08-31T02:12:13.111796Z",
     "start_time": "2025-08-31T02:12:13.109218Z"
    }
   },
   "cell_type": "code",
   "source": [
    "from langchain_core.prompts import ChatPromptTemplate, MessagesPlaceholder\n",
    "\n",
    "prompt_template = ChatPromptTemplate.from_messages(\n",
    "    [\n",
    "        (\n",
    "            \"system\",\n",
    "            \"You are an expert extraction algorithm.\"\n",
    "            \"Only extract relevant information from text.\"\n",
    "            \"If you do not know the value of an attribute asked to extract,\"\n",
    "            \"return null for the attribute's value.\"\n",
    "        ),\n",
    "        # Please see the how-to about improving performance with\n",
    "        # reference examples.\n",
    "        # MessagesPlaceholder('examples'),\n",
    "        (\"human\", \"{text}\")\n",
    "    ]\n",
    ")"
   ],
   "id": "9550cf2cc446ade4",
   "outputs": [],
   "execution_count": 10
  },
  {
   "metadata": {
    "ExecuteTime": {
     "end_time": "2025-08-31T02:12:20.463779Z",
     "start_time": "2025-08-31T02:12:20.456557Z"
    }
   },
   "cell_type": "code",
   "source": [
    "from langchain.chat_models import init_chat_model\n",
    "\n",
    "llm = init_chat_model(\"gemini-2.5-flash\", model_provider=\"google_genai\")\n",
    "\n",
    "structured_llm = llm.with_structured_output(schema=Person)"
   ],
   "id": "16d3afafce870492",
   "outputs": [],
   "execution_count": 11
  },
  {
   "metadata": {
    "ExecuteTime": {
     "end_time": "2025-08-31T02:12:25.724135Z",
     "start_time": "2025-08-31T02:12:22.566542Z"
    }
   },
   "cell_type": "code",
   "source": [
    "text = \"Alan smith is 6 feet tall and has blond and black hair.\"\n",
    "prompt = prompt_template.invoke({'text': text})\n",
    "structured_llm.invoke(prompt)"
   ],
   "id": "9bf95cacad4a827e",
   "outputs": [
    {
     "data": {
      "text/plain": [
       "Person(name='Alan smith', hair_color='blond and black', height_in_meters='6 feet', weight=None)"
      ]
     },
     "execution_count": 12,
     "metadata": {},
     "output_type": "execute_result"
    }
   ],
   "execution_count": 12
  },
  {
   "metadata": {
    "ExecuteTime": {
     "end_time": "2025-08-31T02:15:07.726013Z",
     "start_time": "2025-08-31T02:15:05.791371Z"
    }
   },
   "cell_type": "code",
   "source": [
    "# multiple Entities\n",
    "# In most cases, you should be extracting a list of entities rather than a single entity.\n",
    "\n",
    "class Data(BaseModel):\n",
    "    people: list[Person] = Field(default_factory=list)\n",
    "\n",
    "\n",
    "structured_llm = llm.with_structured_output(schema=Data)\n",
    "text = \"My name is Jeff, my hair is black and i am 6 feet tall. Anna has the same color hair as me.\"\n",
    "prompt = prompt_template.invoke({\"text\": text})\n",
    "structured_llm.invoke(prompt)"
   ],
   "id": "c9bd4838e5c9e5ec",
   "outputs": [
    {
     "data": {
      "text/plain": [
       "Data(people=[Person(name='Jeff', hair_color='black', height_in_meters='6 feet', weight=None), Person(name='Anna', hair_color='black', height_in_meters=None, weight=None)])"
      ]
     },
     "execution_count": 13,
     "metadata": {},
     "output_type": "execute_result"
    }
   ],
   "execution_count": 13
  },
  {
   "metadata": {
    "ExecuteTime": {
     "end_time": "2025-08-31T02:42:49.566997Z",
     "start_time": "2025-08-31T02:42:47.561352Z"
    }
   },
   "cell_type": "code",
   "source": [
    "messages = [\n",
    "    {\"role\": \"user\", \"content\": \"2 🦜 2\"},\n",
    "    {\"role\": \"assistant\", \"content\": \"4\"},\n",
    "    {\"role\": \"user\", \"content\": \"2 🦜 3\"},\n",
    "    {\"role\": \"assistant\", \"content\": \"5\"},\n",
    "    {\"role\": \"user\", \"content\": \"3 🦜 4\"},\n",
    "]\n",
    "\n",
    "response = llm.invoke(messages)\n",
    "print(response.content)"
   ],
   "id": "2ae86b2f02d76f96",
   "outputs": [
    {
     "name": "stdout",
     "output_type": "stream",
     "text": [
      "7\n"
     ]
    }
   ],
   "execution_count": 14
  },
  {
   "metadata": {
    "ExecuteTime": {
     "end_time": "2025-08-31T02:51:54.856510Z",
     "start_time": "2025-08-31T02:51:54.852739Z"
    }
   },
   "cell_type": "code",
   "source": [
    "from langchain_core.utils.function_calling import tool_example_to_messages\n",
    "\n",
    "examples = [\n",
    "    (\n",
    "        \"The ocean is vast and blue. It's more than 20,000 feet deep.\",\n",
    "        Data(people=[]),\n",
    "    ),\n",
    "    (\n",
    "        \"Fiona traveled far from France to Spain.\",\n",
    "        Data(people=[Person(name=\"Fiona\", height_in_meters=None, hair_color=None)]),\n",
    "    ),\n",
    "]\n",
    "\n",
    "messages = []\n",
    "\n",
    "for txt, tool_call in examples:\n",
    "    if tool_call.people:\n",
    "        # This final message is optional for some providers\n",
    "        ai_response = \"Detected people.\"\n",
    "    else:\n",
    "        ai_response = \"Detected no people.\"\n",
    "    messages.extend(tool_example_to_messages(txt, [tool_call], ai_response=ai_response))\n",
    "\n",
    "for message in messages:\n",
    "    message.pretty_print()"
   ],
   "id": "6d9cfa55be589af4",
   "outputs": [
    {
     "name": "stdout",
     "output_type": "stream",
     "text": [
      "================================\u001B[1m Human Message \u001B[0m=================================\n",
      "\n",
      "The ocean is vast and blue. It's more than 20,000 feet deep.\n",
      "==================================\u001B[1m Ai Message \u001B[0m==================================\n",
      "Tool Calls:\n",
      "  Data (4342f9ec-26e2-4879-abbd-7ca1a6c42c15)\n",
      " Call ID: 4342f9ec-26e2-4879-abbd-7ca1a6c42c15\n",
      "  Args:\n",
      "    people: []\n",
      "=================================\u001B[1m Tool Message \u001B[0m=================================\n",
      "\n",
      "You have correctly called this tool.\n",
      "==================================\u001B[1m Ai Message \u001B[0m==================================\n",
      "\n",
      "Detected no people.\n",
      "================================\u001B[1m Human Message \u001B[0m=================================\n",
      "\n",
      "Fiona traveled far from France to Spain.\n",
      "==================================\u001B[1m Ai Message \u001B[0m==================================\n",
      "Tool Calls:\n",
      "  Data (85b768ff-96b3-4537-befb-60e60d7162cd)\n",
      " Call ID: 85b768ff-96b3-4537-befb-60e60d7162cd\n",
      "  Args:\n",
      "    people: [{'name': 'Fiona', 'hair_color': None, 'height_in_meters': None, 'weight': None}]\n",
      "=================================\u001B[1m Tool Message \u001B[0m=================================\n",
      "\n",
      "You have correctly called this tool.\n",
      "==================================\u001B[1m Ai Message \u001B[0m==================================\n",
      "\n",
      "Detected people.\n"
     ]
    }
   ],
   "execution_count": 16
  },
  {
   "metadata": {
    "ExecuteTime": {
     "end_time": "2025-08-31T02:58:14.091133Z",
     "start_time": "2025-08-31T02:58:12.801707Z"
    }
   },
   "cell_type": "code",
   "source": [
    "# In this example, the model is liable to erroneously generate records of people.\n",
    "message_no_extraction = {\n",
    "    \"role\": \"user\",\n",
    "    \"content\": \"The solar system is large, but earth has only 1 moon.\",\n",
    "}\n",
    "\n",
    "# Solution\n",
    "# class Data(BaseModel):\n",
    "#     people: list[Person] = []\n",
    "\n",
    "\n",
    "structured_llm = llm.with_structured_output(schema=Data)\n",
    "structured_llm.invoke([message_no_extraction])"
   ],
   "id": "26941bfd65fe7e63",
   "outputs": [
    {
     "data": {
      "text/plain": [
       "Data(people=[Person(name='Earth', hair_color='blue', height_in_meters='12742000 meters', weight='5.972 × 10^24 kg')])"
      ]
     },
     "execution_count": 21,
     "metadata": {},
     "output_type": "execute_result"
    }
   ],
   "execution_count": 21
  },
  {
   "metadata": {
    "ExecuteTime": {
     "end_time": "2025-08-31T02:54:51.510031Z",
     "start_time": "2025-08-31T02:54:50.264213Z"
    }
   },
   "cell_type": "code",
   "source": "structured_llm.invoke(messages + [message_no_extraction])",
   "id": "5683414e0dcbb899",
   "outputs": [
    {
     "data": {
      "text/plain": [
       "Data(people=[])"
      ]
     },
     "execution_count": 18,
     "metadata": {},
     "output_type": "execute_result"
    }
   ],
   "execution_count": 18
  }
 ],
 "metadata": {
  "kernelspec": {
   "display_name": "Python 3",
   "language": "python",
   "name": "python3"
  },
  "language_info": {
   "codemirror_mode": {
    "name": "ipython",
    "version": 2
   },
   "file_extension": ".py",
   "mimetype": "text/x-python",
   "name": "python",
   "nbconvert_exporter": "python",
   "pygments_lexer": "ipython2",
   "version": "2.7.6"
  }
 },
 "nbformat": 4,
 "nbformat_minor": 5
}
